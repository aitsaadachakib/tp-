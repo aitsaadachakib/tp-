{
 "cells": [
  {
   "cell_type": "code",
   "execution_count": 1,
   "metadata": {},
   "outputs": [],
   "source": [
    "import cv2\n",
    "import numpy as np\n",
    "import math\n",
    "import random\n",
    "import keyboard\n",
    "\n",
    "import time"
   ]
  },
  {
   "cell_type": "code",
   "execution_count": 3,
   "metadata": {},
   "outputs": [],
   "source": [
    "\n",
    "def place_car(img, X,Y,voiture):\n",
    "    hight=math.ceil(voiture.shape[0]/2)\n",
    "    width=math.ceil(voiture.shape[1]/2)\n",
    "    if (X-width>0 and Y-hight>0 and X+width<img.shape[1] and Y+hight<img.shape[0]) :\n",
    "        img[Y-hight:Y + hight, X-width:X + width, :] = voiture \n",
    "    return img\n",
    "def remove_car(img, X,Y,voiture):\n",
    "    game_over=False\n",
    "    hight=math.ceil(voiture.shape[0]/2)\n",
    "    width=math.ceil(voiture.shape[1]/2)\n",
    "    if (X-width>0 and Y-hight>0 and X+width<img.shape[1] and Y+hight<img.shape[0]) :\n",
    "        img[Y-hight:Y + hight, X-width:X + width, :] = np.zeros((voiture.shape[0],voiture.shape[1],3)) \n",
    "    return img\n",
    "def place_meteore(img,liste_meteor):\n",
    "    for i in liste_meteor:\n",
    "        img=place_car(img,i.posX,i.posY,i.img)\n",
    "    return img\n",
    "def remove_meteore(img,liste_meteor):\n",
    "    for i in liste_meteor:\n",
    "        img=remove_car(img,i.posX,i.posY,i.img)\n",
    "    return img\n",
    "\n",
    "\n"
   ]
  },
  {
   "cell_type": "code",
   "execution_count": 4,
   "metadata": {},
   "outputs": [],
   "source": [
    "class Meteore:\n",
    "    def __init__(self, img,posX,posY,moveX,moveY,radius):\n",
    "        self.img = img\n",
    "        self.posX=posX\n",
    "        self.posY=posY\n",
    "        self.moveX=moveX\n",
    "        self.moveY=moveY\n",
    "        self.radius=radius\n",
    "    def update(self):\n",
    "        self.posX+=self.moveX\n",
    "        self.posY+=self.moveY\n",
    "    def greet(self):\n",
    "        print(f\"Hello, {self.name}!\")\n"
   ]
  },
  {
   "cell_type": "code",
   "execution_count": 25,
   "metadata": {},
   "outputs": [],
   "source": [
    "liste_meteor=[]\n",
    "for i in range(1):\n",
    "    met=np.zeros((2*random.randint(10,50),2*random.randint(10,50),3))\n",
    "    for w in range(met.shape[0]):\n",
    "        for h in range(met.shape[1]):\n",
    "            met[w][h][:]=[255,255,255]\n",
    "    positiony=random.randint(0,300)\n",
    "    positionx=random.randint(100,540)\n",
    "    liste_meteor.append(Meteore(met,positiony,positionx,random.randint(-100,100),random.randint(-100,100),abs(positiony-positionx)))"
   ]
  },
  {
   "cell_type": "code",
   "execution_count": 26,
   "metadata": {},
   "outputs": [
    {
     "name": "stdout",
     "output_type": "stream",
     "text": [
      "59 306 41 95 247\n",
      "(36, 68, 3)\n",
      "\n"
     ]
    }
   ],
   "source": [
    "for i in liste_meteor:\n",
    "    print(i.posX,i.posY,i.moveX,i.moveY,i.radius)\n",
    "    print(i.img.shape)\n",
    "    print(\"\")"
   ]
  },
  {
   "cell_type": "code",
   "execution_count": 24,
   "metadata": {},
   "outputs": [],
   "source": [
    "\n",
    "voiture=np.zeros((100,100,3))\n",
    "for w in range(voiture.shape[0]):\n",
    "    for h in range(voiture.shape[1]):\n",
    "        voiture[w][h][:]=[255,255,255]\n",
    "\n",
    "\n",
    "\n",
    "\n",
    "obstaclespeed=100"
   ]
  },
  {
   "cell_type": "code",
   "execution_count": 29,
   "metadata": {},
   "outputs": [],
   "source": [
    "start=True\n",
    "game_over=False\n",
    "cap = cv2.VideoCapture(0)\n",
    "img=np.zeros(shape=(700, 640, 3))\n",
    "while cap.isOpened():\n",
    "    ret, frame = cap.read()\n",
    "    if not ret:\n",
    "        print(\"Error reading frame\")\n",
    "        break\n",
    "    if game_over:\n",
    "        img=np.zeros(shape=(700, 640, 3))\n",
    "        cv2.putText(img, \"Game Over\", (int(640/2)-100, int(700/2)), cv2.FONT_HERSHEY_SIMPLEX, 2, (255, 255, 255), 2)\n",
    "        cv2.imshow('game', img)\n",
    "        if cv2.waitKey(1) & 0xFF == ord('a'):\n",
    "            strart=True\n",
    "            game_over=False\n",
    "    else:\n",
    "        \n",
    "        if start:\n",
    "            start=False\n",
    "            posx=int(640/2)\n",
    "            posy=700-70\n",
    "            img=np.zeros(shape=(700, 640, 3))\n",
    "            img=place_car(img,posx,posy,voiture)\n",
    "            img=place_meteore(img,liste_meteor)\n",
    "            cv2.imshow('game', img)\n",
    "            \n",
    "            \n",
    "            \n",
    "        else:      \n",
    "            img=remove_car(img,posx,posy,voiture)\n",
    "            img=remove_meteore(img,liste_meteor)\n",
    "            if keyboard.is_pressed('g'):\n",
    "                posx-=10\n",
    "            if keyboard.is_pressed('h'):\n",
    "                posx+=10\n",
    "            \n",
    "            for i in range(len(liste_meteor)):\n",
    "                liste_meteor[i].update()\n",
    "                if liste_meteor[i].posX<0 or liste_meteor[i].posX>img.shape[1]:\n",
    "                    liste_meteor[i].moveX=-liste_meteor[i].moveX\n",
    "                if liste_meteor[i].posY<0 or liste_meteor[i].posY>1000:\n",
    "                    liste_meteor[i].posY=0\n",
    "            img=place_car(img,posx,posy,voiture)\n",
    "            img=place_meteore(img,liste_meteor)\n",
    "            cv2.imshow('game', img)\n",
    "            \n",
    "\n",
    "    # Read the frame from the webcam\n",
    "    \n",
    "    \n",
    "    \n",
    "\n",
    "\n",
    "    if cv2.waitKey(1) & 0xFF == ord('q'):\n",
    "        break\n",
    "\n",
    "cap.release()\n",
    "cv2.destroyAllWindows()"
   ]
  },
  {
   "cell_type": "code",
   "execution_count": 14,
   "metadata": {},
   "outputs": [],
   "source": [
    "cap.release()\n",
    "cv2.destroyAllWindows()"
   ]
  }
 ],
 "metadata": {
  "kernelspec": {
   "display_name": "Python 3",
   "language": "python",
   "name": "python3"
  },
  "language_info": {
   "codemirror_mode": {
    "name": "ipython",
    "version": 3
   },
   "file_extension": ".py",
   "mimetype": "text/x-python",
   "name": "python",
   "nbconvert_exporter": "python",
   "pygments_lexer": "ipython3",
   "version": "3.10.11"
  }
 },
 "nbformat": 4,
 "nbformat_minor": 2
}
