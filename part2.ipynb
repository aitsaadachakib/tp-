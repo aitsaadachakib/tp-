{
 "cells": [
  {
   "cell_type": "code",
   "execution_count": 182,
   "metadata": {},
   "outputs": [],
   "source": [
    "import cv2\n",
    "import numpy as np\n",
    "import math\n",
    "import random\n",
    "import keyboard\n",
    "\n",
    "import time"
   ]
  },
  {
   "cell_type": "code",
   "execution_count": 183,
   "metadata": {},
   "outputs": [],
   "source": [
    "def range(start,stop=None,step=1):\n",
    "    if stop==None:\n",
    "        stop = start\n",
    "        start = 0 \n",
    "    i = start\n",
    "    if step>0:\n",
    "        while i<stop:\n",
    "            yield i\n",
    "            i+=step\n",
    "    else:\n",
    "        while i>stop:\n",
    "            yield i\n",
    "            i+=step"
   ]
  },
  {
   "cell_type": "code",
   "execution_count": 184,
   "metadata": {},
   "outputs": [],
   "source": [
    "\n",
    "def place_car(img, X,Y,voiture):\n",
    "    hight=math.ceil(voiture.shape[0]/2)\n",
    "    width=math.ceil(voiture.shape[1]/2)\n",
    "    if (X-width>=0 and Y-hight>=0 and X+width<img.shape[1] and Y+hight<img.shape[0]) :\n",
    "        img[Y-hight:Y + hight, X-width:X + width, :] = voiture \n",
    "    else:\n",
    "        if((X-width<0 and X+width>img.shape[1]) or (Y-hight<0 and Y+hight>img.shape[0]) ):\n",
    "            return img\n",
    "            \n",
    "    return img\n",
    "\n",
    "def remove_car(img, X,Y,voiture):\n",
    "    game_over=False\n",
    "    hight=math.ceil(voiture.shape[0]/2)\n",
    "    width=math.ceil(voiture.shape[1]/2)\n",
    "    if (X-width>=0 and Y-hight>=0 and X+width<img.shape[1] and Y+hight<img.shape[0]) :\n",
    "        img[Y-hight:Y + hight, X-width:X + width, :] = np.zeros((voiture.shape[0],voiture.shape[1],3)) \n",
    "    return img\n",
    "def place_meteore(img,liste_meteor):\n",
    "    for i in liste_meteor:\n",
    "        img=place_car(img,i.posX,i.posY,i.img)\n",
    "    return img\n",
    "def remove_meteore(img,liste_meteor):\n",
    "    for i in liste_meteor:\n",
    "        img=remove_car(img,i.posX,i.posY,i.img)\n",
    "    return img\n",
    "\n",
    "\n"
   ]
  },
  {
   "cell_type": "code",
   "execution_count": 185,
   "metadata": {},
   "outputs": [],
   "source": [
    "class Meteore:\n",
    "    def __init__(self, img,posX,posY,moveX,moveY):\n",
    "        self.img = img\n",
    "        self.posX=posX\n",
    "        self.posY=posY\n",
    "        self.moveX=moveX\n",
    "        self.moveY=moveY\n",
    "        self.radius=int(abs(posX-posY)/2)\n",
    "    def update(self):\n",
    "        self.posX+=self.moveX\n",
    "        self.posY+=self.moveY\n",
    "    def update_posY(self,moveY):\n",
    "        self.posY=moveY\n",
    "    def update_posX(self,moveX):\n",
    "        self.posX=moveX\n",
    "    def update_moveY(self,moveY):\n",
    "        self.moveY=moveY\n",
    "    def update_moveX(self,moveX):\n",
    "        self.moveX=moveX\n",
    "    def greet(self):\n",
    "        print(f\"Hello, {self.name}!\")\n",
    "class Voiture:\n",
    "    def __init__(self, img,posX,posY,speed):\n",
    "        self.img = img\n",
    "        self.posX=posX\n",
    "        self.posY=posY\n",
    "        self.speed=speed\n",
    "        self.radius=int(abs(posX-posY)/2)\n",
    "\n"
   ]
  },
  {
   "cell_type": "code",
   "execution_count": 186,
   "metadata": {},
   "outputs": [],
   "source": [
    "liste_meteor=[]\n",
    "for i in range(1):\n",
    "    met=np.zeros((2*random.randint(10,50),2*random.randint(10,50),3))\n",
    "    for w in range(met.shape[0]):\n",
    "        for h in range(met.shape[1]):\n",
    "            met[w][h][:]=[255,255,255]\n",
    "    positiony=random.randint(0,300)\n",
    "    positionx=random.randint(100,540)\n",
    "    liste_meteor.append(Meteore(met,positionx,positiony,3,5))\n",
    "\n",
    "list_star=[]\n",
    "for i in range(1):\n",
    "    met=np.zeros((2*random.randint(10,50),2*random.randint(10,50),3))\n",
    "    for w in range(met.shape[0]):\n",
    "        for h in range(met.shape[1]):\n",
    "            met[w][h][:]=[255,0,0]\n",
    "    positiony=random.randint(0,300)\n",
    "    positionx=random.randint(100,540)\n",
    "    list_star.append(Meteore(met,positionx,positiony,3,5))"
   ]
  },
  {
   "cell_type": "code",
   "execution_count": 187,
   "metadata": {},
   "outputs": [
    {
     "name": "stdout",
     "output_type": "stream",
     "text": [
      "400 247 3 5 76\n",
      "(24, 86, 3)\n",
      "\n"
     ]
    }
   ],
   "source": [
    "for i in liste_meteor:\n",
    "    print(i.posX,i.posY,i.moveX,i.moveY,i.radius)\n",
    "    print(i.img.shape)\n",
    "    print(\"\")\n",
    "\n"
   ]
  },
  {
   "cell_type": "code",
   "execution_count": 188,
   "metadata": {},
   "outputs": [],
   "source": [
    "liste_meteor=[]"
   ]
  },
  {
   "cell_type": "code",
   "execution_count": 189,
   "metadata": {},
   "outputs": [],
   "source": [
    "\n",
    "voitureimg=np.zeros((100,100,3))\n",
    "for w in range(voitureimg.shape[0]):\n",
    "    for h in range(voitureimg.shape[1]):\n",
    "        voitureimg[w][h][:]=[255,255,255]\n",
    "\n",
    "voiture=Voiture(voitureimg,320,400,10)\n",
    "\n",
    "\n",
    "scoreborder=np.zeros((200,700,3))\n",
    "cv2.putText(scoreborder,\"score : 0\",(10,50),cv2.FONT_HERSHEY_SIMPLEX,1,(255,255,255),2)\n",
    "\n",
    "\n",
    "obstaclespeed=100"
   ]
  },
  {
   "cell_type": "code",
   "execution_count": 190,
   "metadata": {},
   "outputs": [
    {
     "ename": "ValueError",
     "evalue": "operands could not be broadcast together with shapes (700,640,3) (700,200,3) ",
     "output_type": "error",
     "traceback": [
      "\u001b[1;31m---------------------------------------------------------------------------\u001b[0m",
      "\u001b[1;31mValueError\u001b[0m                                Traceback (most recent call last)",
      "\u001b[1;32mc:\\Users\\chakib\\Desktop\\tp s3\\tp vision\\tp pro\\tp-\\part2.ipynb Cell 9\u001b[0m line \u001b[0;36m8\n\u001b[0;32m     <a href='vscode-notebook-cell:/c%3A/Users/chakib/Desktop/tp%20s3/tp%20vision/tp%20pro/tp-/part2.ipynb#X12sZmlsZQ%3D%3D?line=78'>79</a>\u001b[0m         img\n\u001b[0;32m     <a href='vscode-notebook-cell:/c%3A/Users/chakib/Desktop/tp%20s3/tp%20vision/tp%20pro/tp-/part2.ipynb#X12sZmlsZQ%3D%3D?line=79'>80</a>\u001b[0m         cv2\u001b[39m.\u001b[39mimshow(\u001b[39m'\u001b[39m\u001b[39mscore\u001b[39m\u001b[39m'\u001b[39m, scoreborder)\n\u001b[1;32m---> <a href='vscode-notebook-cell:/c%3A/Users/chakib/Desktop/tp%20s3/tp%20vision/tp%20pro/tp-/part2.ipynb#X12sZmlsZQ%3D%3D?line=80'>81</a>\u001b[0m         cv2\u001b[39m.\u001b[39mimshow(\u001b[39m'\u001b[39m\u001b[39mgame\u001b[39m\u001b[39m'\u001b[39m, image_afficher\u001b[39m+\u001b[39;49mscoreborder)\n\u001b[0;32m     <a href='vscode-notebook-cell:/c%3A/Users/chakib/Desktop/tp%20s3/tp%20vision/tp%20pro/tp-/part2.ipynb#X12sZmlsZQ%3D%3D?line=84'>85</a>\u001b[0m \u001b[39m# Read the frame from the webcam\u001b[39;00m\n\u001b[0;32m     <a href='vscode-notebook-cell:/c%3A/Users/chakib/Desktop/tp%20s3/tp%20vision/tp%20pro/tp-/part2.ipynb#X12sZmlsZQ%3D%3D?line=90'>91</a>\u001b[0m \u001b[39mif\u001b[39;00m cv2\u001b[39m.\u001b[39mwaitKey(\u001b[39m1\u001b[39m) \u001b[39m&\u001b[39m \u001b[39m0xFF\u001b[39m \u001b[39m==\u001b[39m \u001b[39mord\u001b[39m(\u001b[39m'\u001b[39m\u001b[39mq\u001b[39m\u001b[39m'\u001b[39m):\n",
      "\u001b[1;31mValueError\u001b[0m: operands could not be broadcast together with shapes (700,640,3) (700,200,3) "
     ]
    }
   ],
   "source": [
    "start=True\n",
    "game_over=False\n",
    "cap = cv2.VideoCapture(0)\n",
    "score=0\n",
    "img=np.zeros(shape=(700, 640, 3))\n",
    "while cap.isOpened():\n",
    "    ret, frame = cap.read()\n",
    "    if not ret:\n",
    "        score=0\n",
    "        print(\"Error reading frame\")\n",
    "        break\n",
    "    if game_over:\n",
    "        img=np.zeros(shape=(700, 640, 3))\n",
    "        cv2.putText(img, \"Game Over\", (int(640/2)-100, int(700/2)), cv2.FONT_HERSHEY_SIMPLEX, 2, (255, 255, 255), 2)\n",
    "        cv2.imshow('game', img)\n",
    "        if cv2.waitKey(1) & 0xFF == ord('a'):\n",
    "            strart=True\n",
    "            game_over=False\n",
    "    else:\n",
    "        \n",
    "        if start:\n",
    "            start=False\n",
    "            img=np.zeros(shape=(1200, 640, 3))\n",
    "            posx=int(img.shape[1]/2)\n",
    "            posy=img.shape[0]-270\n",
    "            voiture.posX=posx\n",
    "            voiture.posY=posy\n",
    "            score=0\n",
    "            img=place_car(img,voiture.posX,voiture.posY,voiture.img)\n",
    "            img=place_meteore(img,liste_meteor)\n",
    "            img=place_meteore(img,list_star)\n",
    "            image_afficher=img[300:-200,:,:]\n",
    "            scoreborder=np.zeros((700,200,3))\n",
    "            cv2.putText(scoreborder,\"score :\"+str(score),(10,50),cv2.FONT_HERSHEY_SIMPLEX,1,(255,255,255),2)\n",
    "            cv2.imshow('score', scoreborder)\n",
    "            cv2.imshow('game', image_afficher)\n",
    "            \n",
    "            \n",
    "            \n",
    "        else:      \n",
    "            img=remove_car(img,voiture.posX,voiture.posY,voiture.img)\n",
    "            img=remove_meteore(img,liste_meteor)\n",
    "            img=remove_meteore(img,list_star)\n",
    "            if keyboard.is_pressed('g'):\n",
    "                voiture.posX-=10\n",
    "            if keyboard.is_pressed('h'):\n",
    "                voiture.posX+=10\n",
    "            \n",
    "            for i in liste_meteor:\n",
    "                i.update()\n",
    "                if i.posX-i.radius-10<0 or i.posX+i.radius+10>img.shape[1]:\n",
    "                    i.update_moveX(-(i.moveX))\n",
    "                if i.posY-i.radius>img.shape[0]:\n",
    "                    i.update_posY(0)\n",
    "            for i in liste_meteor:\n",
    "                posvm=int((voiture.posX-i.posX)*(voiture.posX-i.posX)+(voiture.posY-i.posY)*(voiture.posY-i.posY))\n",
    "                posvm=int(math.sqrt(posvm))\n",
    "                if(posvm<voiture.radius+i.radius):\n",
    "                    game_over=True\n",
    "            for i in list_star:\n",
    "                i.update()\n",
    "                if i.posX<0 or i.posX>img.shape[1]:\n",
    "                    i.update_moveX(-(i.moveX))\n",
    "                if i.posY>1000:\n",
    "                    i.update_posY(0)\n",
    "            for i in list_star:\n",
    "                posvm=int((voiture.posX-i.posX)*(voiture.posX-i.posX)+(voiture.posY-i.posY)*(voiture.posY-i.posY))\n",
    "                posvm=int(math.sqrt(posvm))\n",
    "                if(posvm<voiture.radius+i.radius):\n",
    "                    score+=1\n",
    "                    i.update_posY(0)\n",
    "\n",
    "            img=place_car(img,voiture.posX,voiture.posY,voiture.img)\n",
    "            img=place_meteore(img,liste_meteor)\n",
    "            img=place_meteore(img,list_star)\n",
    "            image_afficher=img[300:-200,:,:]\n",
    "            scoreborder=np.zeros((700,200,3))\n",
    "            cv2.putText(scoreborder,\"score :\"+str(score),(10,50),cv2.FONT_HERSHEY_SIMPLEX,1,(255,255,255),2)\n",
    "            img\n",
    "            cv2.imshow('score', scoreborder)\n",
    "            cv2.imshow('game', image_afficher)\n",
    "            \n",
    "            \n",
    "\n",
    "    # Read the frame from the webcam\n",
    "    \n",
    "    \n",
    "    \n",
    "\n",
    "\n",
    "    if cv2.waitKey(1) & 0xFF == ord('q'):\n",
    "        break\n",
    "\n",
    "cap.release()\n",
    "cv2.destroyAllWindows()"
   ]
  },
  {
   "cell_type": "code",
   "execution_count": 191,
   "metadata": {},
   "outputs": [],
   "source": [
    "cap.release()\n",
    "cv2.destroyAllWindows()"
   ]
  },
  {
   "cell_type": "code",
   "execution_count": null,
   "metadata": {},
   "outputs": [
    {
     "data": {
      "text/plain": [
       "(700, 640, 3)"
      ]
     },
     "execution_count": 181,
     "metadata": {},
     "output_type": "execute_result"
    }
   ],
   "source": [
    "image_afficher.shape"
   ]
  }
 ],
 "metadata": {
  "kernelspec": {
   "display_name": "Python 3",
   "language": "python",
   "name": "python3"
  },
  "language_info": {
   "codemirror_mode": {
    "name": "ipython",
    "version": 3
   },
   "file_extension": ".py",
   "mimetype": "text/x-python",
   "name": "python",
   "nbconvert_exporter": "python",
   "pygments_lexer": "ipython3",
   "version": "3.10.11"
  }
 },
 "nbformat": 4,
 "nbformat_minor": 2
}
