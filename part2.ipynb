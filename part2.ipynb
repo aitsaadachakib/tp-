{
 "cells": [
  {
   "cell_type": "code",
   "execution_count": 58,
   "metadata": {},
   "outputs": [],
   "source": [
    "import cv2\n",
    "import numpy as np\n",
    "import math\n",
    "import random\n",
    "import keyboard\n",
    "\n",
    "import time"
   ]
  },
  {
   "cell_type": "code",
   "execution_count": 59,
   "metadata": {},
   "outputs": [],
   "source": [
    "\n",
    "def place_car(img, X,Y,voiture):\n",
    "    hight=math.ceil(voiture.shape[0]/2)\n",
    "    width=math.ceil(voiture.shape[1]/2)\n",
    "    if (X-width>=0 and Y-hight>=0 and X+width<img.shape[1] and Y+hight<img.shape[0]) :\n",
    "        img[Y-hight:Y + hight, X-width:X + width, :] = voiture \n",
    "    else:\n",
    "        if((X-width<0 and X+width>img.shape[1]) or (Y-hight<0 and Y+hight>img.shape[0]) ):\n",
    "            return img\n",
    "            \n",
    "    return img\n",
    "\n",
    "def remove_car(img, X,Y,voiture):\n",
    "    game_over=False\n",
    "    hight=math.ceil(voiture.shape[0]/2)\n",
    "    width=math.ceil(voiture.shape[1]/2)\n",
    "    if (X-width>=0 and Y-hight>=0 and X+width<img.shape[1] and Y+hight<img.shape[0]) :\n",
    "        img[Y-hight:Y + hight, X-width:X + width, :] = np.zeros((voiture.shape[0],voiture.shape[1],3)) \n",
    "    return img\n",
    "def place_meteore(img,liste_meteor):\n",
    "    for i in liste_meteor:\n",
    "        img=place_car(img,i.posX,i.posY,i.img)\n",
    "    return img\n",
    "def remove_meteore(img,liste_meteor):\n",
    "    for i in liste_meteor:\n",
    "        img=remove_car(img,i.posX,i.posY,i.img)\n",
    "    return img\n",
    "\n",
    "\n"
   ]
  },
  {
   "cell_type": "code",
   "execution_count": 60,
   "metadata": {},
   "outputs": [],
   "source": [
    "class Meteore:\n",
    "    def __init__(self, img,posX,posY,moveX,moveY):\n",
    "        self.img = img\n",
    "        self.posX=posX\n",
    "        self.posY=posY\n",
    "        self.moveX=moveX\n",
    "        self.moveY=moveY\n",
    "        self.radius=int(abs(posX-posY)/2)\n",
    "    def update(self):\n",
    "        self.posX+=self.moveX\n",
    "        self.posY+=self.moveY\n",
    "    def greet(self):\n",
    "        print(f\"Hello, {self.name}!\")\n",
    "class Voiture:\n",
    "    def __init__(self, img,posX,posY,speed):\n",
    "        self.img = img\n",
    "        self.posX=posX\n",
    "        self.posY=posY\n",
    "        self.speed=speed\n",
    "        self.radius=int(abs(posX-posY)/2)\n",
    "\n"
   ]
  },
  {
   "cell_type": "code",
   "execution_count": 61,
   "metadata": {},
   "outputs": [],
   "source": [
    "liste_meteor=[]\n",
    "for i in range(1):\n",
    "    met=np.zeros((2*random.randint(10,50),2*random.randint(10,50),3))\n",
    "    for w in range(met.shape[0]):\n",
    "        for h in range(met.shape[1]):\n",
    "            met[w][h][:]=[255,255,255]\n",
    "    positiony=random.randint(0,300)\n",
    "    positionx=random.randint(100,540)\n",
    "    liste_meteor.append(Meteore(met,positionx,positiony,3,5))"
   ]
  },
  {
   "cell_type": "code",
   "execution_count": 62,
   "metadata": {},
   "outputs": [
    {
     "name": "stdout",
     "output_type": "stream",
     "text": [
      "474 289 3 5 92\n",
      "(38, 62, 3)\n",
      "\n"
     ]
    }
   ],
   "source": [
    "for i in liste_meteor:\n",
    "    print(i.posX,i.posY,i.moveX,i.moveY,i.radius)\n",
    "    print(i.img.shape)\n",
    "    print(\"\")\n",
    "m=liste_meteor.copy()"
   ]
  },
  {
   "cell_type": "code",
   "execution_count": 74,
   "metadata": {},
   "outputs": [
    {
     "name": "stdout",
     "output_type": "stream",
     "text": [
      "606 650 3 5 92\n",
      "606 650 3 5 92\n"
     ]
    }
   ],
   "source": [
    "print(m[0].posX,m[0].posY,m[0].moveX,m[0].moveY,m[0].radius)\n",
    "print(liste_meteor[0].posX,liste_meteor[0].posY,liste_meteor[0].moveX,liste_meteor[0].moveY,liste_meteor[0].radius)"
   ]
  },
  {
   "cell_type": "code",
   "execution_count": 64,
   "metadata": {},
   "outputs": [],
   "source": [
    "\n",
    "voitureimg=np.zeros((100,100,3))\n",
    "for w in range(voitureimg.shape[0]):\n",
    "    for h in range(voitureimg.shape[1]):\n",
    "        voitureimg[w][h][:]=[255,255,255]\n",
    "\n",
    "voiture=Voiture(voitureimg,320,400,10)\n",
    "\n",
    "\n",
    "\n",
    "\n",
    "obstaclespeed=100"
   ]
  },
  {
   "cell_type": "code",
   "execution_count": 72,
   "metadata": {},
   "outputs": [],
   "source": [
    "start=True\n",
    "game_over=False\n",
    "cap = cv2.VideoCapture(0)\n",
    "img=np.zeros(shape=(700, 640, 3))\n",
    "while cap.isOpened():\n",
    "    ret, frame = cap.read()\n",
    "    if not ret:\n",
    "        print(\"Error reading frame\")\n",
    "        break\n",
    "    if game_over:\n",
    "        img=np.zeros(shape=(700, 640, 3))\n",
    "        cv2.putText(img, \"Game Over\", (int(640/2)-100, int(700/2)), cv2.FONT_HERSHEY_SIMPLEX, 2, (255, 255, 255), 2)\n",
    "        cv2.imshow('game', img)\n",
    "        if cv2.waitKey(1) & 0xFF == ord('a'):\n",
    "            strart=True\n",
    "            game_over=False\n",
    "    else:\n",
    "        \n",
    "        if start:\n",
    "            start=False\n",
    "            liste_meteor=m\n",
    "            posx=int(640/2)\n",
    "            posy=700-70\n",
    "            voiture.posX=posx\n",
    "            voiture.posY=posy\n",
    "            img=np.zeros(shape=(700, 640, 3))\n",
    "            img=place_car(img,voiture.posX,voiture.posY,voiture.img)\n",
    "            img=place_meteore(img,liste_meteor)\n",
    "            cv2.imshow('game', img)\n",
    "            \n",
    "            \n",
    "            \n",
    "        else:      \n",
    "            img=remove_car(img,voiture.posX,voiture.posY,voiture.img)\n",
    "            img=remove_meteore(img,liste_meteor)\n",
    "            if keyboard.is_pressed('g'):\n",
    "                voiture.posX-=10\n",
    "            if keyboard.is_pressed('h'):\n",
    "                voiture.posX+=10\n",
    "            \n",
    "            for i in range(len(liste_meteor)):\n",
    "                liste_meteor[i].update()\n",
    "                if liste_meteor[i].posX<0 or liste_meteor[i].posX>img.shape[1]:\n",
    "                    liste_meteor[i].moveX=-liste_meteor[i].moveX\n",
    "                if liste_meteor[i].posY<0 or liste_meteor[i].posY>1000:\n",
    "                    liste_meteor[i].posY=0\n",
    "            for i in liste_meteor:\n",
    "                posvm=int((voiture.posX-i.posX)*(voiture.posX-i.posX)+(voiture.posY-i.posY)*(voiture.posY-i.posY))\n",
    "                posvm=int(math.sqrt(posvm))\n",
    "                if(posvm<voiture.radius+i.radius):\n",
    "                    game_over=True\n",
    "            img=place_car(img,voiture.posX,voiture.posY,voiture.img)\n",
    "            img=place_meteore(img,liste_meteor)\n",
    "            cv2.imshow('game', img)\n",
    "            \n",
    "            \n",
    "\n",
    "    # Read the frame from the webcam\n",
    "    \n",
    "    \n",
    "    \n",
    "\n",
    "\n",
    "    if cv2.waitKey(1) & 0xFF == ord('q'):\n",
    "        break\n",
    "\n",
    "cap.release()\n",
    "cv2.destroyAllWindows()"
   ]
  },
  {
   "cell_type": "code",
   "execution_count": 66,
   "metadata": {},
   "outputs": [],
   "source": [
    "cap.release()\n",
    "cv2.destroyAllWindows()"
   ]
  }
 ],
 "metadata": {
  "kernelspec": {
   "display_name": "Python 3",
   "language": "python",
   "name": "python3"
  },
  "language_info": {
   "codemirror_mode": {
    "name": "ipython",
    "version": 3
   },
   "file_extension": ".py",
   "mimetype": "text/x-python",
   "name": "python",
   "nbconvert_exporter": "python",
   "pygments_lexer": "ipython3",
   "version": "3.10.11"
  }
 },
 "nbformat": 4,
 "nbformat_minor": 2
}
